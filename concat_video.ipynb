{
 "cells": [
  {
   "cell_type": "code",
   "execution_count": 1,
   "metadata": {},
   "outputs": [],
   "source": [
    "import ffmpeg\n",
    "import re\n",
    "import os\n",
    "from natsort import natsorted"
   ]
  },
  {
   "cell_type": "code",
   "execution_count": 5,
   "metadata": {},
   "outputs": [
    {
     "name": "stdout",
     "output_type": "stream",
     "text": [
      "processing ./ts44-3/s10\n",
      "processing ./ts44-3/s11\n",
      "processing ./ts44-3/s12\n",
      "processing ./ts44-3/s13\n",
      "processing ./ts45-4/s10\n",
      "processing ./ts45-4/s11\n",
      "processing ./ts45-4/s12\n",
      "processing ./ts45-4/s13\n",
      "processing ./ts46-1/s10\n",
      "processing ./ts46-1/s11\n",
      "processing ./ts46-1/s12\n",
      "processing ./ts46-1/s13\n"
     ]
    }
   ],
   "source": [
    "for cur_dir, dlist, flist in os.walk(\".\"):\n",
    "    flist = natsorted(list(filter(lambda fn: re.search(r\"behavCam[0-9]*\\.avi$\", fn), flist)))\n",
    "    if flist:\n",
    "        print(\"processing {}\".format(cur_dir))\n",
    "        streams = [ffmpeg.input(os.path.join(cur_dir, vid)) for vid in flist]\n",
    "        ffmpeg.concat(*streams).output(os.path.join(cur_dir, 'behavConcat.avi'), c='libx264', crf=0).run(overwrite_output=True)"
   ]
  }
 ],
 "metadata": {
  "kernelspec": {
   "display_name": "minian-dev",
   "language": "python",
   "name": "minian-dev"
  },
  "language_info": {
   "codemirror_mode": {
    "name": "ipython",
    "version": 3
   },
   "file_extension": ".py",
   "mimetype": "text/x-python",
   "name": "python",
   "nbconvert_exporter": "python",
   "pygments_lexer": "ipython3",
   "version": "3.6.7"
  }
 },
 "nbformat": 4,
 "nbformat_minor": 4
}
